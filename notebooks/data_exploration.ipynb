{
 "cells": [
  {
   "metadata": {},
   "cell_type": "markdown",
   "source": "## Fine tune Amharic NER model",
   "id": "6d167f616da83885"
  },
  {
   "metadata": {
    "ExecuteTime": {
     "end_time": "2025-06-24T16:54:31.881328Z",
     "start_time": "2025-06-24T16:54:28.710286Z"
    }
   },
   "cell_type": "code",
   "source": [
    "********# Install dependencies (run once in Colab)\n",
    "!pip install transformers seqeval\n",
    "from transformers import AutoTokenizer, AutoModelForTokenClassification, pipeline"
   ],
   "id": "1dca0288ed0cf99c",
   "outputs": [
    {
     "name": "stdout",
     "output_type": "stream",
     "text": [
      "Requirement already satisfied: transformers in d:\\codefiles\\kifiya\\week4\\ecommerce_ner_project\\venv\\lib\\site-packages (4.52.4)\n",
      "Requirement already satisfied: seqeval in d:\\codefiles\\kifiya\\week4\\ecommerce_ner_project\\venv\\lib\\site-packages (1.2.2)\n",
      "Requirement already satisfied: filelock in d:\\codefiles\\kifiya\\week4\\ecommerce_ner_project\\venv\\lib\\site-packages (from transformers) (3.18.0)\n",
      "Requirement already satisfied: huggingface-hub<1.0,>=0.30.0 in d:\\codefiles\\kifiya\\week4\\ecommerce_ner_project\\venv\\lib\\site-packages (from transformers) (0.33.0)\n",
      "Requirement already satisfied: numpy>=1.17 in d:\\codefiles\\kifiya\\week4\\ecommerce_ner_project\\venv\\lib\\site-packages (from transformers) (2.3.1)\n",
      "Requirement already satisfied: packaging>=20.0 in d:\\codefiles\\kifiya\\week4\\ecommerce_ner_project\\venv\\lib\\site-packages (from transformers) (25.0)\n",
      "Requirement already satisfied: pyyaml>=5.1 in d:\\codefiles\\kifiya\\week4\\ecommerce_ner_project\\venv\\lib\\site-packages (from transformers) (6.0.2)\n",
      "Requirement already satisfied: regex!=2019.12.17 in d:\\codefiles\\kifiya\\week4\\ecommerce_ner_project\\venv\\lib\\site-packages (from transformers) (2024.11.6)\n",
      "Requirement already satisfied: requests in d:\\codefiles\\kifiya\\week4\\ecommerce_ner_project\\venv\\lib\\site-packages (from transformers) (2.32.4)\n",
      "Requirement already satisfied: tokenizers<0.22,>=0.21 in d:\\codefiles\\kifiya\\week4\\ecommerce_ner_project\\venv\\lib\\site-packages (from transformers) (0.21.2)\n",
      "Requirement already satisfied: safetensors>=0.4.3 in d:\\codefiles\\kifiya\\week4\\ecommerce_ner_project\\venv\\lib\\site-packages (from transformers) (0.5.3)\n",
      "Requirement already satisfied: tqdm>=4.27 in d:\\codefiles\\kifiya\\week4\\ecommerce_ner_project\\venv\\lib\\site-packages (from transformers) (4.67.1)\n",
      "Requirement already satisfied: scikit-learn>=0.21.3 in d:\\codefiles\\kifiya\\week4\\ecommerce_ner_project\\venv\\lib\\site-packages (from seqeval) (1.7.0)\n",
      "Requirement already satisfied: fsspec>=2023.5.0 in d:\\codefiles\\kifiya\\week4\\ecommerce_ner_project\\venv\\lib\\site-packages (from huggingface-hub<1.0,>=0.30.0->transformers) (2025.5.1)\n",
      "Requirement already satisfied: typing-extensions>=3.7.4.3 in d:\\codefiles\\kifiya\\week4\\ecommerce_ner_project\\venv\\lib\\site-packages (from huggingface-hub<1.0,>=0.30.0->transformers) (4.14.0)\n",
      "Requirement already satisfied: scipy>=1.8.0 in d:\\codefiles\\kifiya\\week4\\ecommerce_ner_project\\venv\\lib\\site-packages (from scikit-learn>=0.21.3->seqeval) (1.16.0)\n",
      "Requirement already satisfied: joblib>=1.2.0 in d:\\codefiles\\kifiya\\week4\\ecommerce_ner_project\\venv\\lib\\site-packages (from scikit-learn>=0.21.3->seqeval) (1.5.1)\n",
      "Requirement already satisfied: threadpoolctl>=3.1.0 in d:\\codefiles\\kifiya\\week4\\ecommerce_ner_project\\venv\\lib\\site-packages (from scikit-learn>=0.21.3->seqeval) (3.6.0)\n",
      "Requirement already satisfied: colorama in d:\\codefiles\\kifiya\\week4\\ecommerce_ner_project\\venv\\lib\\site-packages (from tqdm>=4.27->transformers) (0.4.6)\n",
      "Requirement already satisfied: charset_normalizer<4,>=2 in d:\\codefiles\\kifiya\\week4\\ecommerce_ner_project\\venv\\lib\\site-packages (from requests->transformers) (3.4.2)\n",
      "Requirement already satisfied: idna<4,>=2.5 in d:\\codefiles\\kifiya\\week4\\ecommerce_ner_project\\venv\\lib\\site-packages (from requests->transformers) (3.10)\n",
      "Requirement already satisfied: urllib3<3,>=1.21.1 in d:\\codefiles\\kifiya\\week4\\ecommerce_ner_project\\venv\\lib\\site-packages (from requests->transformers) (2.5.0)\n",
      "Requirement already satisfied: certifi>=2017.4.17 in d:\\codefiles\\kifiya\\week4\\ecommerce_ner_project\\venv\\lib\\site-packages (from requests->transformers) (2025.6.15)\n"
     ]
    },
    {
     "name": "stderr",
     "output_type": "stream",
     "text": [
      "\n",
      "[notice] A new release of pip is available: 24.3.1 -> 25.1.1\n",
      "[notice] To update, run: python.exe -m pip install --upgrade pip\n"
     ]
    }
   ],
   "execution_count": 2
  },
  {
   "metadata": {},
   "cell_type": "code",
   "outputs": [],
   "execution_count": null,
   "source": [
    " # Load your fine-tuned model & tokenizer folder path\n",
    "model_path = \"ner_amharic_final_model\"\n",
    "\n",
    "# Load tokenizer and model\n",
    "tokenizer = AutoTokenizer.from_pretrained(model_path)\n",
    "model = AutoModelForTokenClassification.from_pretrained(model_path)\n",
    "\n",
    "# Create a NER pipeline\n",
    "ner_pipeline = pipeline(\n",
    "    \"ner\",\n",
    "    model=model,\n",
    "    tokenizer=tokenizer,\n",
    "    aggregation_strategy=\"simple\"  # groups multi-token entities nicely\n",
    ")\n",
    "\n",
    "# Function to run inference on a single Amharic text\n",
    "def ner_inference(text):\n",
    "    results = ner_pipeline(text)\n",
    "    if not results:\n",
    "        print(\"No entities found.\")\n",
    "        return\n",
    "    print(f\"Input text:\\n{text}\\n\")\n",
    "    print(\"Extracted entities:\")\n",
    "    for ent in results:\n",
    "        print(f\"- {ent['entity_group']}: '{ent['word']}' (score: {ent['score']:.3f})\")\n",
    "\n",
    "# Example usage:\n",
    "example_text = \"አዲስ ላፕቶፕ በዋጋ 75000 ብር በአዲስ አበባ ሲሸጥ።\"\n",
    "ner_inference(example_text)\n",
    "\n",
    "# You can replace `example_text` with any Amharic Telegram message you want to analyze.\n"
   ],
   "id": "d3dacfde0f463fa3"
  }
 ],
 "metadata": {},
 "nbformat": 4,
 "nbformat_minor": 5
}
