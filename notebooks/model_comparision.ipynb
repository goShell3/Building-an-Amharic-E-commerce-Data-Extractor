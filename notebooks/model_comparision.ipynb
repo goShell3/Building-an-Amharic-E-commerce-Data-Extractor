{
 "cells": [
  {
   "cell_type": "code",
   "id": "initial_id",
   "metadata": {
    "collapsed": true,
    "ExecuteTime": {
     "end_time": "2025-06-24T17:43:37.802855Z",
     "start_time": "2025-06-24T17:43:37.797671Z"
    }
   },
   "source": [
    "from transformers import AutoModelForTokenClassification\n",
    "import time"
   ],
   "outputs": [],
   "execution_count": 5
  },
  {
   "metadata": {
    "ExecuteTime": {
     "end_time": "2025-06-24T17:43:34.606897Z",
     "start_time": "2025-06-24T17:43:34.563836Z"
    }
   },
   "cell_type": "code",
   "source": [
    "\n",
    "from transformers import AutoTokenizer\n",
    "from notebooks.CoNLL_model import label2id, label_list, id2label\n",
    "\n",
    "model_names = [\n",
    "    \"xlm-roberta-base\",\n",
    "    \"bert-base-multilingual-cased\",\n",
    "    \"Davlan/afroxlmr-base\"\n",
    "]\n",
    "\n",
    "\n",
    "results = []\n",
    "\n",
    "for model_name in model_names:\n",
    "    print(f\"\\nFine-tuning model: {model_name}\")\n",
    "    tokenizer = AutoTokenizer.from_pretrained(model_name)\n",
    "    model = AutoModelForTokenClassification.from_pretrained(model_name, num_labels=len(label_list), id2label=id2label, label2id=label2id)\n",
    "\n",
    "    def encode(example):\n",
    "        tokenized_inputs = tokenizer(example[\"tokens\"], truncation=True, is_split_into_words=True)\n",
    "        word_ids = tokenized_inputs.word_ids()\n",
    "        labels = []\n",
    "        prev_word = None\n",
    "        for word_id in word_ids:\n",
    "            if word_id is None:\n",
    "                labels.append(-100)\n",
    "            elif word_id != prev_word:\n",
    "                labels.append(label2id[example[\"ner_tags\"][word_id]])\n",
    "            else:\n",
    "                labels.append(label2id[example[\"ner_tags\"][word_id]])\n",
    "            prev_word = word_id\n",
    "        tokenized_inputs[\"labels\"] = labels\n",
    "        return tokenized_inputs\n",
    "\n",
    "    encoded_dataset = dataset.map(encode, batched=False)\n",
    "\n",
    "    training_args = TrainingArguments(\n",
    "        output_dir=f\"./models/{model_name.replace('/', '_')}\",\n",
    "        evaluation_strategy=\"epoch\",\n",
    "        learning_rate=2e-5,\n",
    "        per_device_train_batch_size=8,\n",
    "        num_train_epochs=2,\n",
    "        weight_decay=0.01,\n",
    "        logging_dir=\"./logs\",\n",
    "        save_total_limit=1,\n",
    "    )\n",
    "\n",
    "    trainer = Trainer(\n",
    "        model=model,\n",
    "        args=training_args,\n",
    "        train_dataset=encoded_dataset[\"train\"],\n",
    "        eval_dataset=encoded_dataset[\"test\"],\n",
    "        tokenizer=tokenizer,\n",
    "    )\n",
    "\n",
    "    start_time = time.time()\n",
    "    trainer.train()\n",
    "    elapsed_time = time.time() - start_time\n",
    "\n",
    "    metrics = trainer.evaluate()\n",
    "    metrics[\"model_name\"] = model_name\n",
    "    metrics[\"train_time_sec\"] = elapsed_time\n",
    "\n",
    "    results.append(metrics)\n",
    "\n",
    "# Sort models by evaluation loss\n",
    "results = sorted(results, key=lambda x: x[\"eval_loss\"])\n",
    "print(\"\\n\\n📊 Model Comparison Results:\")\n",
    "for res in results:\n",
    "    print(f\"{res['model_name']} => Loss: {res['eval_loss']:.4f}, Time: {res['train_time_sec']:.2f} sec\")"
   ],
   "id": "37836d3f85d330db",
   "outputs": [
    {
     "name": "stdout",
     "output_type": "stream",
     "text": [
      "\n",
      "Fine-tuning model: xlm-roberta-base\n"
     ]
    },
    {
     "ename": "NameError",
     "evalue": "name 'AutoTokenizer' is not defined",
     "output_type": "error",
     "traceback": [
      "\u001B[31m---------------------------------------------------------------------------\u001B[39m",
      "\u001B[31mNameError\u001B[39m                                 Traceback (most recent call last)",
      "\u001B[36mCell\u001B[39m\u001B[36m \u001B[39m\u001B[32mIn[3]\u001B[39m\u001B[32m, line 12\u001B[39m\n\u001B[32m     10\u001B[39m \u001B[38;5;28;01mfor\u001B[39;00m model_name \u001B[38;5;129;01min\u001B[39;00m model_names:\n\u001B[32m     11\u001B[39m     \u001B[38;5;28mprint\u001B[39m(\u001B[33mf\u001B[39m\u001B[33m\"\u001B[39m\u001B[38;5;130;01m\\n\u001B[39;00m\u001B[33mFine-tuning model: \u001B[39m\u001B[38;5;132;01m{\u001B[39;00mmodel_name\u001B[38;5;132;01m}\u001B[39;00m\u001B[33m\"\u001B[39m)\n\u001B[32m---> \u001B[39m\u001B[32m12\u001B[39m     tokenizer = \u001B[43mAutoTokenizer\u001B[49m.from_pretrained(model_name)\n\u001B[32m     13\u001B[39m     model = AutoModelForTokenClassification.from_pretrained(model_name, num_labels=\u001B[38;5;28mlen\u001B[39m(label_list), id2label=id2label, label2id=label2id)\n\u001B[32m     15\u001B[39m     \u001B[38;5;28;01mdef\u001B[39;00m\u001B[38;5;250m \u001B[39m\u001B[34mencode\u001B[39m(example):\n",
      "\u001B[31mNameError\u001B[39m: name 'AutoTokenizer' is not defined"
     ]
    }
   ],
   "execution_count": 3
  }
 ],
 "metadata": {
  "kernelspec": {
   "display_name": "Python 3",
   "language": "python",
   "name": "python3"
  },
  "language_info": {
   "codemirror_mode": {
    "name": "ipython",
    "version": 2
   },
   "file_extension": ".py",
   "mimetype": "text/x-python",
   "name": "python",
   "nbconvert_exporter": "python",
   "pygments_lexer": "ipython2",
   "version": "2.7.6"
  }
 },
 "nbformat": 4,
 "nbformat_minor": 5
}
