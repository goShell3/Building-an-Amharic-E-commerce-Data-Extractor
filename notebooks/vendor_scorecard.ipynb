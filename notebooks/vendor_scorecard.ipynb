{
 "cells": [
  {
   "cell_type": "code",
   "execution_count": null,
   "id": "f3654373",
   "metadata": {},
   "outputs": [],
   "source": [
    "import pandas as pd\n",
    "from datetime import datetime"
   ]
  },
  {
   "cell_type": "code",
   "execution_count": null,
   "id": "0ff4822b",
   "metadata": {},
   "outputs": [],
   "source": [
    "# Load post metadata (assuming scraped data)\n",
    "df = pd.read_csv(\"telegram_posts.csv\")  # must contain: ['channel', 'message_id', 'timestamp', 'views', 'clean_text']\n",
    "\n",
    "# Convert timestamp to datetime\n",
    "df[\"timestamp\"] = pd.to_datetime(df[\"timestamp\"])\n",
    "df[\"week\"] = df[\"timestamp\"].dt.isocalendar().week\n",
    "\n",
    "# Posting frequency\n",
    "post_freq = df.groupby(\"channel\")[\"week\"].nunique().reset_index(name=\"Posts_per_Week\")\n",
    "\n",
    "# Avg views\n",
    "avg_views = df.groupby(\"channel\")[\"views\"].mean().reset_index(name=\"Avg_Views\")\n",
    "\n",
    "# Highest viewed post\n",
    "top_posts = df.loc[df.groupby(\"channel\")[\"views\"].idxmax()][[\"channel\", \"views\", \"clean_text\"]].rename(columns={\"views\": \"Top_Views\", \"clean_text\": \"Top_Post\"})\n",
    "\n",
    "# Extract average price using your NER model\n",
    "import re\n",
    "\n",
    "price_pattern = re.compile(r\"\\b(\\d{2,7})\\s*ብር\\b\")\n",
    "\n",
    "def extract_prices(text):\n",
    "    return [int(m[0]) for m in price_pattern.findall(text)]\n",
    "\n",
    "df[\"prices\"] = df[\"clean_text\"].apply(extract_prices)\n",
    "price_stats = df.explode(\"prices\").groupby(\"channel\")[\"prices\"].mean().reset_index(name=\"Avg_Price\")\n",
    "\n",
    "# Combine all metrics\n",
    "scorecard = post_freq.merge(avg_views, on=\"channel\")\\\n",
    "                    .merge(price_stats, on=\"channel\")\\\n",
    "                    .merge(top_posts, on=\"channel\")\n",
    "\n",
    "# Compute Lending Score\n",
    "scorecard[\"Lending_Score\"] = (scorecard[\"Avg_Views\"] * 0.5) + (scorecard[\"Posts_per_Week\"] * 0.5)\n",
    "\n",
    "# Save scorecard\n",
    "scorecard.to_csv(\"vendor_scorecard.csv\", index=False)\n",
    "print(\"✅ Vendor Scorecard saved as vendor_scorecard.csv\")"
   ]
  }
 ],
 "metadata": {
  "language_info": {
   "name": "python"
  }
 },
 "nbformat": 4,
 "nbformat_minor": 5
}
